{
  "nbformat": 4,
  "nbformat_minor": 0,
  "metadata": {
    "colab": {
      "name": "Portfolio Optimizer:Convex Optimization-Mean variance",
      "provenance": [],
      "collapsed_sections": [],
      "authorship_tag": "ABX9TyNmC6GUVAoW+EN+hE5ZpJL2",
      "include_colab_link": true
    },
    "kernelspec": {
      "name": "python3",
      "display_name": "Python 3"
    },
    "language_info": {
      "name": "python"
    }
  },
  "cells": [
    {
      "cell_type": "markdown",
      "metadata": {
        "id": "view-in-github",
        "colab_type": "text"
      },
      "source": [
        "<a href=\"https://colab.research.google.com/github/lohkesh-m/Portfolio_Optimizier_Lohkesh/blob/main/Portfolio_Optimizer_Convex_Optimization_Mean_variance.ipynb\" target=\"_parent\"><img src=\"https://colab.research.google.com/assets/colab-badge.svg\" alt=\"Open In Colab\"/></a>"
      ]
    },
    {
      "cell_type": "code",
      "source": [
        "pip install yfinance"
      ],
      "metadata": {
        "colab": {
          "base_uri": "https://localhost:8080/"
        },
        "id": "cyltywcqiEzq",
        "outputId": "4f9a9f86-cab8-4a47-a09b-80fc817bbc67"
      },
      "execution_count": 1,
      "outputs": [
        {
          "output_type": "stream",
          "name": "stdout",
          "text": [
            "Looking in indexes: https://pypi.org/simple, https://us-python.pkg.dev/colab-wheels/public/simple/\n",
            "Collecting yfinance\n",
            "  Downloading yfinance-0.1.74-py2.py3-none-any.whl (27 kB)\n",
            "Collecting requests>=2.26\n",
            "  Downloading requests-2.28.1-py3-none-any.whl (62 kB)\n",
            "\u001b[K     |████████████████████████████████| 62 kB 336 kB/s \n",
            "\u001b[?25hRequirement already satisfied: pandas>=0.24.0 in /usr/local/lib/python3.7/dist-packages (from yfinance) (1.3.5)\n",
            "Requirement already satisfied: numpy>=1.15 in /usr/local/lib/python3.7/dist-packages (from yfinance) (1.21.6)\n",
            "Requirement already satisfied: lxml>=4.5.1 in /usr/local/lib/python3.7/dist-packages (from yfinance) (4.9.1)\n",
            "Requirement already satisfied: multitasking>=0.0.7 in /usr/local/lib/python3.7/dist-packages (from yfinance) (0.0.11)\n",
            "Requirement already satisfied: pytz>=2017.3 in /usr/local/lib/python3.7/dist-packages (from pandas>=0.24.0->yfinance) (2022.1)\n",
            "Requirement already satisfied: python-dateutil>=2.7.3 in /usr/local/lib/python3.7/dist-packages (from pandas>=0.24.0->yfinance) (2.8.2)\n",
            "Requirement already satisfied: six>=1.5 in /usr/local/lib/python3.7/dist-packages (from python-dateutil>=2.7.3->pandas>=0.24.0->yfinance) (1.15.0)\n",
            "Requirement already satisfied: certifi>=2017.4.17 in /usr/local/lib/python3.7/dist-packages (from requests>=2.26->yfinance) (2022.6.15)\n",
            "Requirement already satisfied: idna<4,>=2.5 in /usr/local/lib/python3.7/dist-packages (from requests>=2.26->yfinance) (2.10)\n",
            "Requirement already satisfied: urllib3<1.27,>=1.21.1 in /usr/local/lib/python3.7/dist-packages (from requests>=2.26->yfinance) (1.24.3)\n",
            "Requirement already satisfied: charset-normalizer<3,>=2 in /usr/local/lib/python3.7/dist-packages (from requests>=2.26->yfinance) (2.1.0)\n",
            "Installing collected packages: requests, yfinance\n",
            "  Attempting uninstall: requests\n",
            "    Found existing installation: requests 2.23.0\n",
            "    Uninstalling requests-2.23.0:\n",
            "      Successfully uninstalled requests-2.23.0\n",
            "Successfully installed requests-2.28.1 yfinance-0.1.74\n"
          ]
        }
      ]
    },
    {
      "cell_type": "code",
      "execution_count": 2,
      "metadata": {
        "id": "FoLU9D8pgLx6"
      },
      "outputs": [],
      "source": [
        "import yfinance as yf\n",
        "\n",
        "import cvxpy as cp\n",
        "\n",
        "import numpy as np\n",
        "import pandas as pd\n",
        "import pandas_datareader.data as pdr\n",
        "\n",
        "\n",
        "from pandas_datareader import data as pdr\n",
        "import datetime\n",
        "\n",
        "import matplotlib.pyplot as plt\n",
        "%matplotlib inline \n",
        "import seaborn as sns"
      ]
    },
    {
      "cell_type": "markdown",
      "source": [
        "# Input Section"
      ],
      "metadata": {
        "id": "1El_qJwihsB0"
      }
    },
    {
      "cell_type": "code",
      "source": [
        "Tickers_total=['TSM','ADBE','COST','KKR','CSCO','UNH','VRTX']\n",
        "start_date = '01-01-2016'\n",
        "end_date = '27-06-2022'\n",
        "\n",
        "global riskFreeRate\n",
        "riskFreeRate=0.02\n",
        "\n",
        "global Tickers_Sectorwise\n",
        "Tickers_Sectorwise={'Tech':['TSM','ADBE','CSCO'],'Healthcare':['UNH','VRTX'],'Financials':['KKR'],'RealEstate':[],'ConsumerStaples':['COST'],'ConsumerDiscretionary':[],'Energy':[],'Industrials':[]}\n",
        "\n",
        "Sector_Constraints={'Tech':[0.1,0.3],'Healthcare':[0.05,0.15],'Financials':[0.05,0.15],'RealEstate':[0.05,0.15],'ConsumerStaples':[0.05,0.15],'ConsumerDiscretionary':[0.05,0.15],'Energy':[0.05,0.15],'Industrials':[0.05,0.15]}"
      ],
      "metadata": {
        "id": "zvjrOuJhgYRq"
      },
      "execution_count": 3,
      "outputs": []
    },
    {
      "cell_type": "markdown",
      "source": [
        "# Functions"
      ],
      "metadata": {
        "id": "CKH84dkSHhpg"
      }
    },
    {
      "cell_type": "markdown",
      "source": [
        "### Minor Functions"
      ],
      "metadata": {
        "id": "-e6v3Rykob_X"
      }
    },
    {
      "cell_type": "code",
      "source": [
        "def convertPricetoReturn(HistoricalData_price,tickers):\n",
        "  logPrice=np.log(HistoricalData_price)\n",
        "  HistoricalData_returns=logPrice[1:,:]-logPrice[:-1,:]\n",
        "  return pd.DataFrame(HistoricalData_returns,columns=tickers)"
      ],
      "metadata": {
        "id": "qAw-7lWtofok"
      },
      "execution_count": 4,
      "outputs": []
    },
    {
      "cell_type": "code",
      "source": [
        "def Get_Portfolio_Tickers_Sectorwise_and_SectorwiseCount(Portfolio_Tickers):\n",
        "  Portfolio_Tickers_Sectorwise={}\n",
        "  SectorwiseCount={}\n",
        "  for i in Portfolio_Tickers:\n",
        "    for j in Tickers_Sectorwise:\n",
        "      if j not in SectorwiseCount.keys():\n",
        "        SectorwiseCount.update({j:0})\n",
        "      if i in Tickers_Sectorwise[j]:\n",
        "        Portfolio_Tickers_Sectorwise.update({i:j})\n",
        "        SectorwiseCount[j]+=1\n",
        "      \n",
        "\n",
        "  return [Portfolio_Tickers_Sectorwise,SectorwiseCount]"
      ],
      "metadata": {
        "id": "IqZfJxW9oh4S"
      },
      "execution_count": 5,
      "outputs": []
    },
    {
      "cell_type": "markdown",
      "source": [
        "### Getting Historical Data"
      ],
      "metadata": {
        "id": "I9O7jDfNHlPW"
      }
    },
    {
      "cell_type": "code",
      "execution_count": 6,
      "metadata": {
        "id": "e7d0cc35"
      },
      "outputs": [],
      "source": [
        "def getHistoricalData_AdjClose(Ticker_List,Start,End):\n",
        "  data=[]\n",
        "  daily_prices_list=[]\n",
        "  data_final= pd.DataFrame()\n",
        "  yf.pdr_override()\n",
        "  \n",
        "  if isinstance(Start,str):\n",
        "    Start = datetime.datetime.strptime(Start, '%d-%m-%Y')\n",
        "  if isinstance(End,str):\n",
        "    End = datetime.datetime.strptime(End, '%d-%m-%Y')\n",
        "  for i,k in enumerate(Ticker_List):\n",
        "    try:\n",
        "      data_input=(pdr.get_data_yahoo(k, data_source='yahoo', start=Start, end=End)['Adj Close'])\n",
        "      data_final[k]=data_input\n",
        "    except Exception:\n",
        "      print('Not found',k)\n",
        "      pass\n",
        "  \n",
        "  return data_final"
      ]
    },
    {
      "cell_type": "markdown",
      "source": [
        "### Mathematical Optimization"
      ],
      "metadata": {
        "id": "1vEYYLWjihP0"
      }
    },
    {
      "cell_type": "code",
      "source": [
        "def getConstraintsMatrix(Portfolio_Tickers,Sector_Constraints={}):\n",
        "  \n",
        "  A=np.zeros(shape=(len(Sector_Constraints.keys()),len(Portfolio_Tickers)))\n",
        "  if len(Sector_Constraints)==0:\n",
        "    return\n",
        "  \n",
        "  Portfolio_Tickers_Sectorwise=Get_Portfolio_Tickers_Sectorwise_and_SectorwiseCount(Portfolio_Tickers)[0]\n",
        "\n",
        "  for i in range(0,len(Sector_Constraints.keys())):\n",
        "    for j in range(0,len(Portfolio_Tickers_Sectorwise)):\n",
        "      if list(Sector_Constraints.keys())[i]==Portfolio_Tickers_Sectorwise[Portfolio_Tickers[j]]:\n",
        "        A[i,j] =1\n",
        "  \n",
        "  MinWeights=np.array(list(Sector_Constraints.values()))[:,0].reshape(len(Sector_Constraints.keys()),1)\n",
        "  MaxWeights=np.array(list(Sector_Constraints.values()))[:,1].reshape(len(Sector_Constraints.keys()),1)\n",
        "\n",
        "  for i in range(0,len(Sector_Constraints.keys())):\n",
        "    if A[i,:].any()==False:\n",
        "      MinWeights[i]=0\n",
        "      MaxWeights[i]=0\n",
        "    \n",
        "    if sum(MaxWeights)<1.1:\n",
        "      MaxWeights=MaxWeights*1.1/(sum(MaxWeights))\n",
        "\n",
        "  return [A,MinWeights,MaxWeights]"
      ],
      "metadata": {
        "id": "ZmUdLpO3Yg2_"
      },
      "execution_count": 7,
      "outputs": []
    },
    {
      "cell_type": "code",
      "source": [
        "def Optimize_risk(Portfolio_Tickers,mu,sigma,Sector_Constraints):\n",
        "  # Defining initial variables\n",
        "  x = cp.Variable((mu.shape[1], 1))\n",
        "  \n",
        "  # Budget and weights constraints\n",
        "  constraints = [\n",
        "            x <= 1,\n",
        "            x >= 0]\n",
        "\n",
        "  #Sector Constraints\n",
        "  if len(Sector_Constraints.keys())!=0:\n",
        "    [A,MinWeights,MaxWeights]=getConstraintsMatrix(Portfolio_Tickers,Sector_Constraints)\n",
        "\n",
        "    print(np.shape(A@x),np.shape(MaxWeights))\n",
        "    constraints = [ cp.sum(x) == 1,\n",
        "                   x <= 1,\n",
        "                   x >= 0,\n",
        "                   A@x >= MinWeights,\n",
        "                   A@x <= MaxWeights]\n",
        "\n",
        "  risk = cp.quad_form(x, sigma)\n",
        "  objective = cp.Minimize(risk)\n",
        "\n",
        "  weights = pd.DataFrame([])\n",
        "  # Solving the problem with several solvers\n",
        "  prob = cp.Problem(objective, constraints)\n",
        "\n",
        "  #solvers = ['ECOS', 'SCS']\n",
        "  prob.solve(solver='ECOS')\n",
        "  # Showing Optimal Weights\n",
        "\n",
        "  weights = pd.DataFrame(x.value, index=Portfolio_Tickers, columns=['Weights'])\n",
        "  return weights\n",
        "                "
      ],
      "metadata": {
        "id": "VAIF1jQ1THYo"
      },
      "execution_count": 8,
      "outputs": []
    },
    {
      "cell_type": "code",
      "source": [
        "def Optimize_Returns(Portfolio_Tickers,mu,sigma):\n",
        "  # Defining initial variables\n",
        "  x = cp.Variable((mu.shape[1], 1))\n",
        "  \n",
        "  # Budget and weights constraints\n",
        "  constraints = [cp.sum(x) == 1,\n",
        "                x <= 1,\n",
        "                x >= 0]\n",
        "                "
      ],
      "metadata": {
        "id": "0C567CPcTxeE"
      },
      "execution_count": 9,
      "outputs": []
    },
    {
      "cell_type": "code",
      "source": [
        "def Optimize_Sharpe(Portfolio_Tickers,expected_returns,sigma,Sector_Constraints):\n",
        "\n",
        "  expected_Returns_transformed= expected_returns-np.ones(expected_returns.shape)*riskFreeRate\n",
        "  muT=expected_Returns_transformed.reshape(1,-1)\n",
        "\n",
        "  y = cp.Variable((muT.shape[1], 1))\n",
        "  risk=cp.quad_form(y,sigma)\n",
        "\n",
        "  transformed_returns=muT @ y\n",
        "  constraints=[ muT @ y ==1,\n",
        "              y>=0]\n",
        "\n",
        "  if len(Sector_Constraints.keys())!=0:\n",
        "    [A,MinWeights,MaxWeights]=getConstraintsMatrix(Portfolio_Tickers,Sector_Constraints)\n",
        "\n",
        "    Amin=np.zeros(shape=np.shape(A))\n",
        "    Amax=np.zeros(shape=np.shape(A))\n",
        "    \n",
        "    for i in range(0,len(MaxWeights)):\n",
        "      Amin[i,:]=A[i,:]-np.ones(shape=np.shape(Amin[i,:]))*MinWeights[i]\n",
        "      Amax[i,:]=A[i,:]-np.ones(shape=np.shape(Amax[i,:]))*MaxWeights[i]\n",
        "    \n",
        "    constraints = [ muT @ y ==1,\n",
        "                  y >= 0,\n",
        "                  Amin@y >= 0,\n",
        "                  Amax@y <= 0]\n",
        "\n",
        "  objective = cp.Minimize(risk)\n",
        "\n",
        "  weights = pd.DataFrame([])\n",
        "  # Solving the problem with several solvers\n",
        "  prob = cp.Problem(objective, constraints)\n",
        "  solvers = ['ECOS', 'SCS']\n",
        "  #solvers = ['ECOS', 'SCS']\n",
        "  prob.solve(solver='ECOS')\n",
        "  # Storing Optimal Weights\n",
        "  weights = pd.DataFrame(y.value/sum(y.value), index=Portfolio_Tickers, columns=['Weights'])\n",
        "  return weights"
      ],
      "metadata": {
        "id": "tICGrDqiUq3t"
      },
      "execution_count": 10,
      "outputs": []
    },
    {
      "cell_type": "code",
      "source": [
        "def Port_Optimizer_CvxOptimization(Portfolio_Tickers,expected_returns,covariance_matrix,Sector_Constraints={},ObjectiveFunction='Sharpe',returnType='Dataframe'):\n",
        "  # Defining initial inputs\n",
        "  expected_returns=252*expected_returns\n",
        "  mu = expected_returns.reshape(1,-1)\n",
        "  sigma = 252*covariance_matrix\n",
        "  \n",
        "  if ObjectiveFunction=='Risk':\n",
        "    Weights=Optimize_risk(Portfolio_Tickers,mu,sigma,Sector_Constraints)\n",
        "  elif ObjectiveFunction=='Sharpe':\n",
        "    Weights=Optimize_Sharpe(Portfolio_Tickers,expected_returns,sigma,Sector_Constraints)\n",
        "\n",
        "  if returnType=='Array':\n",
        "    return np.array(Weights['Weights'])\n",
        "\n",
        "  if returnType=='List':\n",
        "    return np.array(Weights).tolist()\n",
        "\n",
        "  display(Weights)\n",
        "\n",
        "  Optimized_Returns= expected_returns @ np.array(Weights)\n",
        "\n",
        "  Optimized_Volatility=(np.dot(np.array(Weights).T,np.dot(sigma,np.array(Weights))))**0.5\n",
        "\n",
        "  Optimized_Sharpe=(Optimized_Returns-riskFreeRate)/Optimized_Volatility\n",
        "  \n",
        "  return [Weights,Optimized_Returns,Optimized_Volatility,Optimized_Sharpe]\n"
      ],
      "metadata": {
        "id": "MKlKwwIki_BG"
      },
      "execution_count": 11,
      "outputs": []
    },
    {
      "cell_type": "markdown",
      "source": [
        "### Backtest Function"
      ],
      "metadata": {
        "id": "3OhWdUcHyYOG"
      }
    },
    {
      "cell_type": "code",
      "execution_count": 12,
      "metadata": {
        "id": "IQYEJ4PvfFrv"
      },
      "outputs": [],
      "source": [
        "def backtest_Optimizer(Portfolio_tickers,Sector_Constraints,ObjectiveFunction='Sharpe',Benchmark=\"SP500\",Backtest_duration=10,Number_of_Rebalance=10):\n",
        "  BenchmarkDict={\"SP500\":[[\"^GSPC\"],[1]],\"NASDAQ100\":[[\"^NDX\"],[1]],\"60/40\":[0,[0.6,0.4]]}\n",
        "  if Benchmark not in BenchmarkDict.keys():\n",
        "    print(f\"Invalid Benchmark. List of Available Benchmarks:{BenchmarkDict.keys()}\")\n",
        "\n",
        "  Start=datetime.datetime(datetime.datetime.now().year-Backtest_duration,1,1)\n",
        "  End=datetime.datetime.now()\n",
        "\n",
        "  Benchmark_ticker=BenchmarkDict[Benchmark][0]\n",
        "  Benchmark_weights=np.array(BenchmarkDict[Benchmark][1])\n",
        "  BenchmarkReturns=[0]\n",
        "\n",
        "  Backtest_data=getHistoricalData_AdjClose(Portfolio_tickers,Start,End)\n",
        "  print(\"--------------------Loaded Backtest Data---------------------------\")\n",
        "  BenchmarkData=getHistoricalData_AdjClose(Benchmark_ticker,Start,End)\n",
        "  print(\"--------------------Loaded Benchmark Data---------------------------\")\n",
        "\n",
        "  Rebalance_period=int(len(Backtest_data)/Number_of_Rebalance)\n",
        "\n",
        "  Portfolio_value=[1]\n",
        "  Portfolio_returns_list=[0]\n",
        "  Portfolio_weights_historical=[]\n",
        "\n",
        "  start=np.array(Backtest_data.iloc[0])\n",
        "  b_start=np.array(BenchmarkData.iloc[0])\n",
        "  \n",
        "  for i in range(0,len(Backtest_data)-1):\n",
        "\n",
        "    if i%Rebalance_period==0:\n",
        "\n",
        "      Rebalance_data=getHistoricalData_AdjClose(Portfolio_Tickers,pd.Timestamp(year=Backtest_data.index[i].year-3,month=1,day=1),Backtest_data.index[i])\n",
        "      Rebalance_data=convertPricetoReturn(Rebalance_data.to_numpy(copy=True),Rebalance_data.columns)\n",
        "\n",
        "      Expected_Returns=np.array(Rebalance_data.mean())\n",
        "      Covariance_Matrix=np.array(Rebalance_data.cov())\n",
        "\n",
        "      print(f\"--------------------Rebalance {int(i/Rebalance_period)} of {int(len(Backtest_data)/Rebalance_period)}---------------------------\")\n",
        "\n",
        "      Portfolio_weights=Port_Optimizer_CvxOptimization(Portfolio_tickers,Expected_Returns,Covariance_Matrix,Sector_Constraints,ObjectiveFunction,returnType='List')\n",
        "\n",
        "      Portfolio_weights_historical.append(Portfolio_weights)\n",
        "    \n",
        "    if Backtest_data.index[i+1].month!=Backtest_data.index[i].month:\n",
        "\n",
        "      temp=np.array(Backtest_data.iloc[i])\n",
        "      Stock_Returns=np.log(temp)-np.log(start)\n",
        "      start=temp\n",
        "      [Portfolio_returns]=np.dot(np.array(Portfolio_weights).T,Stock_Returns).tolist()\n",
        "\n",
        "      Portfolio_returns_list.append(Portfolio_returns)\n",
        "\n",
        "      b_temp=np.array(BenchmarkData.iloc[i])\n",
        "      BenchmarkReturns.append(np.dot(Benchmark_weights,np.log(b_temp)-np.log(b_start)))\n",
        "      b_start=b_temp\n",
        "\n",
        "  \n",
        "  return [Portfolio_returns_list,Portfolio_weights_historical,BenchmarkReturns]\n",
        "\n"
      ]
    },
    {
      "cell_type": "markdown",
      "source": [
        "## Runtime Code\n"
      ],
      "metadata": {
        "id": "_6JnZ8JRIfj4"
      }
    },
    {
      "cell_type": "markdown",
      "source": [
        "### Historical Price Data and returns"
      ],
      "metadata": {
        "id": "TYq0Sl2Jg8ME"
      }
    },
    {
      "cell_type": "code",
      "source": [
        "HistoricalPriceData=getHistoricalData_AdjClose(Tickers_total,start_date,end_date)"
      ],
      "metadata": {
        "colab": {
          "base_uri": "https://localhost:8080/"
        },
        "id": "azrBcQMkIkN3",
        "outputId": "94d1531b-148c-4c68-9a5b-e2d7412ca5f1"
      },
      "execution_count": 13,
      "outputs": [
        {
          "output_type": "stream",
          "name": "stdout",
          "text": [
            "[*********************100%***********************]  1 of 1 completed\n",
            "[*********************100%***********************]  1 of 1 completed\n",
            "[*********************100%***********************]  1 of 1 completed\n",
            "[*********************100%***********************]  1 of 1 completed\n",
            "[*********************100%***********************]  1 of 1 completed\n",
            "[*********************100%***********************]  1 of 1 completed\n",
            "[*********************100%***********************]  1 of 1 completed\n"
          ]
        }
      ]
    },
    {
      "cell_type": "code",
      "source": [
        "HistoricalPriceData.head()\n"
      ],
      "metadata": {
        "colab": {
          "base_uri": "https://localhost:8080/",
          "height": 237
        },
        "id": "V2YbwRAES5ix",
        "outputId": "166fdab8-f4e2-4ea8-9cea-b463de38bd27"
      },
      "execution_count": 14,
      "outputs": [
        {
          "output_type": "execute_result",
          "data": {
            "text/plain": [
              "                  TSM       ADBE        COST        KKR       CSCO  \\\n",
              "Date                                                                 \n",
              "2016-01-04  18.029854  91.970001  140.122879  13.396483  21.543215   \n",
              "2016-01-05  17.915586  92.339996  140.465408  13.116327  21.445326   \n",
              "2016-01-06  17.417707  91.019997  139.165558  12.853152  21.216927   \n",
              "2016-01-07  17.221815  89.110001  135.977356  12.301333  20.727493   \n",
              "2016-01-08  16.985117  87.849998  133.597214  12.021179  20.213593   \n",
              "\n",
              "                   UNH        VRTX  \n",
              "Date                                \n",
              "2016-01-04  105.460785  122.889999  \n",
              "2016-01-05  105.659973  123.449997  \n",
              "2016-01-06  104.582382  122.230003  \n",
              "2016-01-07  101.503487  114.959999  \n",
              "2016-01-08   99.755768  110.709999  "
            ],
            "text/html": [
              "\n",
              "  <div id=\"df-645787c3-3127-4e0a-9902-5dc4572b3b7b\">\n",
              "    <div class=\"colab-df-container\">\n",
              "      <div>\n",
              "<style scoped>\n",
              "    .dataframe tbody tr th:only-of-type {\n",
              "        vertical-align: middle;\n",
              "    }\n",
              "\n",
              "    .dataframe tbody tr th {\n",
              "        vertical-align: top;\n",
              "    }\n",
              "\n",
              "    .dataframe thead th {\n",
              "        text-align: right;\n",
              "    }\n",
              "</style>\n",
              "<table border=\"1\" class=\"dataframe\">\n",
              "  <thead>\n",
              "    <tr style=\"text-align: right;\">\n",
              "      <th></th>\n",
              "      <th>TSM</th>\n",
              "      <th>ADBE</th>\n",
              "      <th>COST</th>\n",
              "      <th>KKR</th>\n",
              "      <th>CSCO</th>\n",
              "      <th>UNH</th>\n",
              "      <th>VRTX</th>\n",
              "    </tr>\n",
              "    <tr>\n",
              "      <th>Date</th>\n",
              "      <th></th>\n",
              "      <th></th>\n",
              "      <th></th>\n",
              "      <th></th>\n",
              "      <th></th>\n",
              "      <th></th>\n",
              "      <th></th>\n",
              "    </tr>\n",
              "  </thead>\n",
              "  <tbody>\n",
              "    <tr>\n",
              "      <th>2016-01-04</th>\n",
              "      <td>18.029854</td>\n",
              "      <td>91.970001</td>\n",
              "      <td>140.122879</td>\n",
              "      <td>13.396483</td>\n",
              "      <td>21.543215</td>\n",
              "      <td>105.460785</td>\n",
              "      <td>122.889999</td>\n",
              "    </tr>\n",
              "    <tr>\n",
              "      <th>2016-01-05</th>\n",
              "      <td>17.915586</td>\n",
              "      <td>92.339996</td>\n",
              "      <td>140.465408</td>\n",
              "      <td>13.116327</td>\n",
              "      <td>21.445326</td>\n",
              "      <td>105.659973</td>\n",
              "      <td>123.449997</td>\n",
              "    </tr>\n",
              "    <tr>\n",
              "      <th>2016-01-06</th>\n",
              "      <td>17.417707</td>\n",
              "      <td>91.019997</td>\n",
              "      <td>139.165558</td>\n",
              "      <td>12.853152</td>\n",
              "      <td>21.216927</td>\n",
              "      <td>104.582382</td>\n",
              "      <td>122.230003</td>\n",
              "    </tr>\n",
              "    <tr>\n",
              "      <th>2016-01-07</th>\n",
              "      <td>17.221815</td>\n",
              "      <td>89.110001</td>\n",
              "      <td>135.977356</td>\n",
              "      <td>12.301333</td>\n",
              "      <td>20.727493</td>\n",
              "      <td>101.503487</td>\n",
              "      <td>114.959999</td>\n",
              "    </tr>\n",
              "    <tr>\n",
              "      <th>2016-01-08</th>\n",
              "      <td>16.985117</td>\n",
              "      <td>87.849998</td>\n",
              "      <td>133.597214</td>\n",
              "      <td>12.021179</td>\n",
              "      <td>20.213593</td>\n",
              "      <td>99.755768</td>\n",
              "      <td>110.709999</td>\n",
              "    </tr>\n",
              "  </tbody>\n",
              "</table>\n",
              "</div>\n",
              "      <button class=\"colab-df-convert\" onclick=\"convertToInteractive('df-645787c3-3127-4e0a-9902-5dc4572b3b7b')\"\n",
              "              title=\"Convert this dataframe to an interactive table.\"\n",
              "              style=\"display:none;\">\n",
              "        \n",
              "  <svg xmlns=\"http://www.w3.org/2000/svg\" height=\"24px\"viewBox=\"0 0 24 24\"\n",
              "       width=\"24px\">\n",
              "    <path d=\"M0 0h24v24H0V0z\" fill=\"none\"/>\n",
              "    <path d=\"M18.56 5.44l.94 2.06.94-2.06 2.06-.94-2.06-.94-.94-2.06-.94 2.06-2.06.94zm-11 1L8.5 8.5l.94-2.06 2.06-.94-2.06-.94L8.5 2.5l-.94 2.06-2.06.94zm10 10l.94 2.06.94-2.06 2.06-.94-2.06-.94-.94-2.06-.94 2.06-2.06.94z\"/><path d=\"M17.41 7.96l-1.37-1.37c-.4-.4-.92-.59-1.43-.59-.52 0-1.04.2-1.43.59L10.3 9.45l-7.72 7.72c-.78.78-.78 2.05 0 2.83L4 21.41c.39.39.9.59 1.41.59.51 0 1.02-.2 1.41-.59l7.78-7.78 2.81-2.81c.8-.78.8-2.07 0-2.86zM5.41 20L4 18.59l7.72-7.72 1.47 1.35L5.41 20z\"/>\n",
              "  </svg>\n",
              "      </button>\n",
              "      \n",
              "  <style>\n",
              "    .colab-df-container {\n",
              "      display:flex;\n",
              "      flex-wrap:wrap;\n",
              "      gap: 12px;\n",
              "    }\n",
              "\n",
              "    .colab-df-convert {\n",
              "      background-color: #E8F0FE;\n",
              "      border: none;\n",
              "      border-radius: 50%;\n",
              "      cursor: pointer;\n",
              "      display: none;\n",
              "      fill: #1967D2;\n",
              "      height: 32px;\n",
              "      padding: 0 0 0 0;\n",
              "      width: 32px;\n",
              "    }\n",
              "\n",
              "    .colab-df-convert:hover {\n",
              "      background-color: #E2EBFA;\n",
              "      box-shadow: 0px 1px 2px rgba(60, 64, 67, 0.3), 0px 1px 3px 1px rgba(60, 64, 67, 0.15);\n",
              "      fill: #174EA6;\n",
              "    }\n",
              "\n",
              "    [theme=dark] .colab-df-convert {\n",
              "      background-color: #3B4455;\n",
              "      fill: #D2E3FC;\n",
              "    }\n",
              "\n",
              "    [theme=dark] .colab-df-convert:hover {\n",
              "      background-color: #434B5C;\n",
              "      box-shadow: 0px 1px 3px 1px rgba(0, 0, 0, 0.15);\n",
              "      filter: drop-shadow(0px 1px 2px rgba(0, 0, 0, 0.3));\n",
              "      fill: #FFFFFF;\n",
              "    }\n",
              "  </style>\n",
              "\n",
              "      <script>\n",
              "        const buttonEl =\n",
              "          document.querySelector('#df-645787c3-3127-4e0a-9902-5dc4572b3b7b button.colab-df-convert');\n",
              "        buttonEl.style.display =\n",
              "          google.colab.kernel.accessAllowed ? 'block' : 'none';\n",
              "\n",
              "        async function convertToInteractive(key) {\n",
              "          const element = document.querySelector('#df-645787c3-3127-4e0a-9902-5dc4572b3b7b');\n",
              "          const dataTable =\n",
              "            await google.colab.kernel.invokeFunction('convertToInteractive',\n",
              "                                                     [key], {});\n",
              "          if (!dataTable) return;\n",
              "\n",
              "          const docLinkHtml = 'Like what you see? Visit the ' +\n",
              "            '<a target=\"_blank\" href=https://colab.research.google.com/notebooks/data_table.ipynb>data table notebook</a>'\n",
              "            + ' to learn more about interactive tables.';\n",
              "          element.innerHTML = '';\n",
              "          dataTable['output_type'] = 'display_data';\n",
              "          await google.colab.output.renderOutput(dataTable, element);\n",
              "          const docLink = document.createElement('div');\n",
              "          docLink.innerHTML = docLinkHtml;\n",
              "          element.appendChild(docLink);\n",
              "        }\n",
              "      </script>\n",
              "    </div>\n",
              "  </div>\n",
              "  "
            ]
          },
          "metadata": {},
          "execution_count": 14
        }
      ]
    },
    {
      "cell_type": "code",
      "source": [
        "HistoricalPriceData.tail()"
      ],
      "metadata": {
        "colab": {
          "base_uri": "https://localhost:8080/",
          "height": 237
        },
        "id": "N9rF_iYJS-QW",
        "outputId": "b9618537-3e68-4d65-9c4e-d13c67f605b4"
      },
      "execution_count": 15,
      "outputs": [
        {
          "output_type": "execute_result",
          "data": {
            "text/plain": [
              "                  TSM        ADBE        COST        KKR       CSCO  \\\n",
              "Date                                                                  \n",
              "2022-06-17  85.000000  360.790009  445.920319  45.056404  43.002953   \n",
              "2022-06-21  86.949997  362.989990  462.311981  46.243149  43.746262   \n",
              "2022-06-22  84.910004  365.329987  459.167419  45.694653  43.181347   \n",
              "2022-06-23  84.120003  376.640015  474.181519  46.263096  42.547058   \n",
              "2022-06-24  85.919998  387.720001  483.535370  48.437130  43.706619   \n",
              "\n",
              "                   UNH        VRTX  \n",
              "Date                                \n",
              "2022-06-17  452.059998  263.089996  \n",
              "2022-06-21  480.320007  270.170013  \n",
              "2022-06-22  489.679993  272.309998  \n",
              "2022-06-23  499.809998  283.500000  \n",
              "2022-06-24  495.640015  292.549988  "
            ],
            "text/html": [
              "\n",
              "  <div id=\"df-9563535c-e2a1-42fc-9709-c6fa14b156f3\">\n",
              "    <div class=\"colab-df-container\">\n",
              "      <div>\n",
              "<style scoped>\n",
              "    .dataframe tbody tr th:only-of-type {\n",
              "        vertical-align: middle;\n",
              "    }\n",
              "\n",
              "    .dataframe tbody tr th {\n",
              "        vertical-align: top;\n",
              "    }\n",
              "\n",
              "    .dataframe thead th {\n",
              "        text-align: right;\n",
              "    }\n",
              "</style>\n",
              "<table border=\"1\" class=\"dataframe\">\n",
              "  <thead>\n",
              "    <tr style=\"text-align: right;\">\n",
              "      <th></th>\n",
              "      <th>TSM</th>\n",
              "      <th>ADBE</th>\n",
              "      <th>COST</th>\n",
              "      <th>KKR</th>\n",
              "      <th>CSCO</th>\n",
              "      <th>UNH</th>\n",
              "      <th>VRTX</th>\n",
              "    </tr>\n",
              "    <tr>\n",
              "      <th>Date</th>\n",
              "      <th></th>\n",
              "      <th></th>\n",
              "      <th></th>\n",
              "      <th></th>\n",
              "      <th></th>\n",
              "      <th></th>\n",
              "      <th></th>\n",
              "    </tr>\n",
              "  </thead>\n",
              "  <tbody>\n",
              "    <tr>\n",
              "      <th>2022-06-17</th>\n",
              "      <td>85.000000</td>\n",
              "      <td>360.790009</td>\n",
              "      <td>445.920319</td>\n",
              "      <td>45.056404</td>\n",
              "      <td>43.002953</td>\n",
              "      <td>452.059998</td>\n",
              "      <td>263.089996</td>\n",
              "    </tr>\n",
              "    <tr>\n",
              "      <th>2022-06-21</th>\n",
              "      <td>86.949997</td>\n",
              "      <td>362.989990</td>\n",
              "      <td>462.311981</td>\n",
              "      <td>46.243149</td>\n",
              "      <td>43.746262</td>\n",
              "      <td>480.320007</td>\n",
              "      <td>270.170013</td>\n",
              "    </tr>\n",
              "    <tr>\n",
              "      <th>2022-06-22</th>\n",
              "      <td>84.910004</td>\n",
              "      <td>365.329987</td>\n",
              "      <td>459.167419</td>\n",
              "      <td>45.694653</td>\n",
              "      <td>43.181347</td>\n",
              "      <td>489.679993</td>\n",
              "      <td>272.309998</td>\n",
              "    </tr>\n",
              "    <tr>\n",
              "      <th>2022-06-23</th>\n",
              "      <td>84.120003</td>\n",
              "      <td>376.640015</td>\n",
              "      <td>474.181519</td>\n",
              "      <td>46.263096</td>\n",
              "      <td>42.547058</td>\n",
              "      <td>499.809998</td>\n",
              "      <td>283.500000</td>\n",
              "    </tr>\n",
              "    <tr>\n",
              "      <th>2022-06-24</th>\n",
              "      <td>85.919998</td>\n",
              "      <td>387.720001</td>\n",
              "      <td>483.535370</td>\n",
              "      <td>48.437130</td>\n",
              "      <td>43.706619</td>\n",
              "      <td>495.640015</td>\n",
              "      <td>292.549988</td>\n",
              "    </tr>\n",
              "  </tbody>\n",
              "</table>\n",
              "</div>\n",
              "      <button class=\"colab-df-convert\" onclick=\"convertToInteractive('df-9563535c-e2a1-42fc-9709-c6fa14b156f3')\"\n",
              "              title=\"Convert this dataframe to an interactive table.\"\n",
              "              style=\"display:none;\">\n",
              "        \n",
              "  <svg xmlns=\"http://www.w3.org/2000/svg\" height=\"24px\"viewBox=\"0 0 24 24\"\n",
              "       width=\"24px\">\n",
              "    <path d=\"M0 0h24v24H0V0z\" fill=\"none\"/>\n",
              "    <path d=\"M18.56 5.44l.94 2.06.94-2.06 2.06-.94-2.06-.94-.94-2.06-.94 2.06-2.06.94zm-11 1L8.5 8.5l.94-2.06 2.06-.94-2.06-.94L8.5 2.5l-.94 2.06-2.06.94zm10 10l.94 2.06.94-2.06 2.06-.94-2.06-.94-.94-2.06-.94 2.06-2.06.94z\"/><path d=\"M17.41 7.96l-1.37-1.37c-.4-.4-.92-.59-1.43-.59-.52 0-1.04.2-1.43.59L10.3 9.45l-7.72 7.72c-.78.78-.78 2.05 0 2.83L4 21.41c.39.39.9.59 1.41.59.51 0 1.02-.2 1.41-.59l7.78-7.78 2.81-2.81c.8-.78.8-2.07 0-2.86zM5.41 20L4 18.59l7.72-7.72 1.47 1.35L5.41 20z\"/>\n",
              "  </svg>\n",
              "      </button>\n",
              "      \n",
              "  <style>\n",
              "    .colab-df-container {\n",
              "      display:flex;\n",
              "      flex-wrap:wrap;\n",
              "      gap: 12px;\n",
              "    }\n",
              "\n",
              "    .colab-df-convert {\n",
              "      background-color: #E8F0FE;\n",
              "      border: none;\n",
              "      border-radius: 50%;\n",
              "      cursor: pointer;\n",
              "      display: none;\n",
              "      fill: #1967D2;\n",
              "      height: 32px;\n",
              "      padding: 0 0 0 0;\n",
              "      width: 32px;\n",
              "    }\n",
              "\n",
              "    .colab-df-convert:hover {\n",
              "      background-color: #E2EBFA;\n",
              "      box-shadow: 0px 1px 2px rgba(60, 64, 67, 0.3), 0px 1px 3px 1px rgba(60, 64, 67, 0.15);\n",
              "      fill: #174EA6;\n",
              "    }\n",
              "\n",
              "    [theme=dark] .colab-df-convert {\n",
              "      background-color: #3B4455;\n",
              "      fill: #D2E3FC;\n",
              "    }\n",
              "\n",
              "    [theme=dark] .colab-df-convert:hover {\n",
              "      background-color: #434B5C;\n",
              "      box-shadow: 0px 1px 3px 1px rgba(0, 0, 0, 0.15);\n",
              "      filter: drop-shadow(0px 1px 2px rgba(0, 0, 0, 0.3));\n",
              "      fill: #FFFFFF;\n",
              "    }\n",
              "  </style>\n",
              "\n",
              "      <script>\n",
              "        const buttonEl =\n",
              "          document.querySelector('#df-9563535c-e2a1-42fc-9709-c6fa14b156f3 button.colab-df-convert');\n",
              "        buttonEl.style.display =\n",
              "          google.colab.kernel.accessAllowed ? 'block' : 'none';\n",
              "\n",
              "        async function convertToInteractive(key) {\n",
              "          const element = document.querySelector('#df-9563535c-e2a1-42fc-9709-c6fa14b156f3');\n",
              "          const dataTable =\n",
              "            await google.colab.kernel.invokeFunction('convertToInteractive',\n",
              "                                                     [key], {});\n",
              "          if (!dataTable) return;\n",
              "\n",
              "          const docLinkHtml = 'Like what you see? Visit the ' +\n",
              "            '<a target=\"_blank\" href=https://colab.research.google.com/notebooks/data_table.ipynb>data table notebook</a>'\n",
              "            + ' to learn more about interactive tables.';\n",
              "          element.innerHTML = '';\n",
              "          dataTable['output_type'] = 'display_data';\n",
              "          await google.colab.output.renderOutput(dataTable, element);\n",
              "          const docLink = document.createElement('div');\n",
              "          docLink.innerHTML = docLinkHtml;\n",
              "          element.appendChild(docLink);\n",
              "        }\n",
              "      </script>\n",
              "    </div>\n",
              "  </div>\n",
              "  "
            ]
          },
          "metadata": {},
          "execution_count": 15
        }
      ]
    },
    {
      "cell_type": "code",
      "source": [
        "HistoricalReturnsData=convertPricetoReturn(HistoricalPriceData.to_numpy(copy=True),HistoricalPriceData.columns)"
      ],
      "metadata": {
        "id": "f-u7G82Bgwmx"
      },
      "execution_count": 16,
      "outputs": []
    },
    {
      "cell_type": "code",
      "source": [
        "HistoricalReturnsData.mean()"
      ],
      "metadata": {
        "colab": {
          "base_uri": "https://localhost:8080/"
        },
        "id": "lOI0whBMqXw7",
        "outputId": "6b9890b5-3980-42be-ea37-d73e69ddba10"
      },
      "execution_count": 17,
      "outputs": [
        {
          "output_type": "execute_result",
          "data": {
            "text/plain": [
              "TSM     0.000958\n",
              "ADBE    0.000883\n",
              "COST    0.000760\n",
              "KKR     0.000789\n",
              "CSCO    0.000434\n",
              "UNH     0.000949\n",
              "VRTX    0.000532\n",
              "dtype: float64"
            ]
          },
          "metadata": {},
          "execution_count": 17
        }
      ]
    },
    {
      "cell_type": "markdown",
      "source": [
        "### Variance-Covariance Matrix"
      ],
      "metadata": {
        "id": "qT7wcZ18hD7P"
      }
    },
    {
      "cell_type": "code",
      "source": [
        "HistoricalReturnsData.cov()"
      ],
      "metadata": {
        "colab": {
          "base_uri": "https://localhost:8080/",
          "height": 269
        },
        "id": "Lj7jOGsGodyT",
        "outputId": "a645a869-f787-46e9-a691-64d8db2d20c6"
      },
      "execution_count": 18,
      "outputs": [
        {
          "output_type": "execute_result",
          "data": {
            "text/plain": [
              "           TSM      ADBE      COST       KKR      CSCO       UNH      VRTX\n",
              "TSM   0.000376  0.000215  0.000096  0.000207  0.000151  0.000124  0.000136\n",
              "ADBE  0.000215  0.000434  0.000143  0.000244  0.000187  0.000156  0.000203\n",
              "COST  0.000096  0.000143  0.000198  0.000118  0.000110  0.000099  0.000089\n",
              "KKR   0.000207  0.000244  0.000118  0.000512  0.000182  0.000175  0.000169\n",
              "CSCO  0.000151  0.000187  0.000110  0.000182  0.000288  0.000132  0.000149\n",
              "UNH   0.000124  0.000156  0.000099  0.000175  0.000132  0.000291  0.000143\n",
              "VRTX  0.000136  0.000203  0.000089  0.000169  0.000149  0.000143  0.000518"
            ],
            "text/html": [
              "\n",
              "  <div id=\"df-bdf05c21-87c7-42c7-9427-744bcce27a7f\">\n",
              "    <div class=\"colab-df-container\">\n",
              "      <div>\n",
              "<style scoped>\n",
              "    .dataframe tbody tr th:only-of-type {\n",
              "        vertical-align: middle;\n",
              "    }\n",
              "\n",
              "    .dataframe tbody tr th {\n",
              "        vertical-align: top;\n",
              "    }\n",
              "\n",
              "    .dataframe thead th {\n",
              "        text-align: right;\n",
              "    }\n",
              "</style>\n",
              "<table border=\"1\" class=\"dataframe\">\n",
              "  <thead>\n",
              "    <tr style=\"text-align: right;\">\n",
              "      <th></th>\n",
              "      <th>TSM</th>\n",
              "      <th>ADBE</th>\n",
              "      <th>COST</th>\n",
              "      <th>KKR</th>\n",
              "      <th>CSCO</th>\n",
              "      <th>UNH</th>\n",
              "      <th>VRTX</th>\n",
              "    </tr>\n",
              "  </thead>\n",
              "  <tbody>\n",
              "    <tr>\n",
              "      <th>TSM</th>\n",
              "      <td>0.000376</td>\n",
              "      <td>0.000215</td>\n",
              "      <td>0.000096</td>\n",
              "      <td>0.000207</td>\n",
              "      <td>0.000151</td>\n",
              "      <td>0.000124</td>\n",
              "      <td>0.000136</td>\n",
              "    </tr>\n",
              "    <tr>\n",
              "      <th>ADBE</th>\n",
              "      <td>0.000215</td>\n",
              "      <td>0.000434</td>\n",
              "      <td>0.000143</td>\n",
              "      <td>0.000244</td>\n",
              "      <td>0.000187</td>\n",
              "      <td>0.000156</td>\n",
              "      <td>0.000203</td>\n",
              "    </tr>\n",
              "    <tr>\n",
              "      <th>COST</th>\n",
              "      <td>0.000096</td>\n",
              "      <td>0.000143</td>\n",
              "      <td>0.000198</td>\n",
              "      <td>0.000118</td>\n",
              "      <td>0.000110</td>\n",
              "      <td>0.000099</td>\n",
              "      <td>0.000089</td>\n",
              "    </tr>\n",
              "    <tr>\n",
              "      <th>KKR</th>\n",
              "      <td>0.000207</td>\n",
              "      <td>0.000244</td>\n",
              "      <td>0.000118</td>\n",
              "      <td>0.000512</td>\n",
              "      <td>0.000182</td>\n",
              "      <td>0.000175</td>\n",
              "      <td>0.000169</td>\n",
              "    </tr>\n",
              "    <tr>\n",
              "      <th>CSCO</th>\n",
              "      <td>0.000151</td>\n",
              "      <td>0.000187</td>\n",
              "      <td>0.000110</td>\n",
              "      <td>0.000182</td>\n",
              "      <td>0.000288</td>\n",
              "      <td>0.000132</td>\n",
              "      <td>0.000149</td>\n",
              "    </tr>\n",
              "    <tr>\n",
              "      <th>UNH</th>\n",
              "      <td>0.000124</td>\n",
              "      <td>0.000156</td>\n",
              "      <td>0.000099</td>\n",
              "      <td>0.000175</td>\n",
              "      <td>0.000132</td>\n",
              "      <td>0.000291</td>\n",
              "      <td>0.000143</td>\n",
              "    </tr>\n",
              "    <tr>\n",
              "      <th>VRTX</th>\n",
              "      <td>0.000136</td>\n",
              "      <td>0.000203</td>\n",
              "      <td>0.000089</td>\n",
              "      <td>0.000169</td>\n",
              "      <td>0.000149</td>\n",
              "      <td>0.000143</td>\n",
              "      <td>0.000518</td>\n",
              "    </tr>\n",
              "  </tbody>\n",
              "</table>\n",
              "</div>\n",
              "      <button class=\"colab-df-convert\" onclick=\"convertToInteractive('df-bdf05c21-87c7-42c7-9427-744bcce27a7f')\"\n",
              "              title=\"Convert this dataframe to an interactive table.\"\n",
              "              style=\"display:none;\">\n",
              "        \n",
              "  <svg xmlns=\"http://www.w3.org/2000/svg\" height=\"24px\"viewBox=\"0 0 24 24\"\n",
              "       width=\"24px\">\n",
              "    <path d=\"M0 0h24v24H0V0z\" fill=\"none\"/>\n",
              "    <path d=\"M18.56 5.44l.94 2.06.94-2.06 2.06-.94-2.06-.94-.94-2.06-.94 2.06-2.06.94zm-11 1L8.5 8.5l.94-2.06 2.06-.94-2.06-.94L8.5 2.5l-.94 2.06-2.06.94zm10 10l.94 2.06.94-2.06 2.06-.94-2.06-.94-.94-2.06-.94 2.06-2.06.94z\"/><path d=\"M17.41 7.96l-1.37-1.37c-.4-.4-.92-.59-1.43-.59-.52 0-1.04.2-1.43.59L10.3 9.45l-7.72 7.72c-.78.78-.78 2.05 0 2.83L4 21.41c.39.39.9.59 1.41.59.51 0 1.02-.2 1.41-.59l7.78-7.78 2.81-2.81c.8-.78.8-2.07 0-2.86zM5.41 20L4 18.59l7.72-7.72 1.47 1.35L5.41 20z\"/>\n",
              "  </svg>\n",
              "      </button>\n",
              "      \n",
              "  <style>\n",
              "    .colab-df-container {\n",
              "      display:flex;\n",
              "      flex-wrap:wrap;\n",
              "      gap: 12px;\n",
              "    }\n",
              "\n",
              "    .colab-df-convert {\n",
              "      background-color: #E8F0FE;\n",
              "      border: none;\n",
              "      border-radius: 50%;\n",
              "      cursor: pointer;\n",
              "      display: none;\n",
              "      fill: #1967D2;\n",
              "      height: 32px;\n",
              "      padding: 0 0 0 0;\n",
              "      width: 32px;\n",
              "    }\n",
              "\n",
              "    .colab-df-convert:hover {\n",
              "      background-color: #E2EBFA;\n",
              "      box-shadow: 0px 1px 2px rgba(60, 64, 67, 0.3), 0px 1px 3px 1px rgba(60, 64, 67, 0.15);\n",
              "      fill: #174EA6;\n",
              "    }\n",
              "\n",
              "    [theme=dark] .colab-df-convert {\n",
              "      background-color: #3B4455;\n",
              "      fill: #D2E3FC;\n",
              "    }\n",
              "\n",
              "    [theme=dark] .colab-df-convert:hover {\n",
              "      background-color: #434B5C;\n",
              "      box-shadow: 0px 1px 3px 1px rgba(0, 0, 0, 0.15);\n",
              "      filter: drop-shadow(0px 1px 2px rgba(0, 0, 0, 0.3));\n",
              "      fill: #FFFFFF;\n",
              "    }\n",
              "  </style>\n",
              "\n",
              "      <script>\n",
              "        const buttonEl =\n",
              "          document.querySelector('#df-bdf05c21-87c7-42c7-9427-744bcce27a7f button.colab-df-convert');\n",
              "        buttonEl.style.display =\n",
              "          google.colab.kernel.accessAllowed ? 'block' : 'none';\n",
              "\n",
              "        async function convertToInteractive(key) {\n",
              "          const element = document.querySelector('#df-bdf05c21-87c7-42c7-9427-744bcce27a7f');\n",
              "          const dataTable =\n",
              "            await google.colab.kernel.invokeFunction('convertToInteractive',\n",
              "                                                     [key], {});\n",
              "          if (!dataTable) return;\n",
              "\n",
              "          const docLinkHtml = 'Like what you see? Visit the ' +\n",
              "            '<a target=\"_blank\" href=https://colab.research.google.com/notebooks/data_table.ipynb>data table notebook</a>'\n",
              "            + ' to learn more about interactive tables.';\n",
              "          element.innerHTML = '';\n",
              "          dataTable['output_type'] = 'display_data';\n",
              "          await google.colab.output.renderOutput(dataTable, element);\n",
              "          const docLink = document.createElement('div');\n",
              "          docLink.innerHTML = docLinkHtml;\n",
              "          element.appendChild(docLink);\n",
              "        }\n",
              "      </script>\n",
              "    </div>\n",
              "  </div>\n",
              "  "
            ]
          },
          "metadata": {},
          "execution_count": 18
        }
      ]
    },
    {
      "cell_type": "code",
      "source": [
        "sns.set()\n",
        "plt.figure(figsize=(12,6))\n",
        "sns.heatmap(HistoricalReturnsData.corr(), annot = True, cmap = 'Blues')"
      ],
      "metadata": {
        "colab": {
          "base_uri": "https://localhost:8080/",
          "height": 398
        },
        "id": "BMT6wLd3m9yh",
        "outputId": "435b712c-6029-4c45-f437-a257fc81d90d"
      },
      "execution_count": 19,
      "outputs": [
        {
          "output_type": "execute_result",
          "data": {
            "text/plain": [
              "<matplotlib.axes._subplots.AxesSubplot at 0x7fa76ccd8310>"
            ]
          },
          "metadata": {},
          "execution_count": 19
        },
        {
          "output_type": "display_data",
          "data": {
            "text/plain": [
              "<Figure size 864x432 with 2 Axes>"
            ],
            "image/png": "[encoded data removed]"
          },
          "metadata": {}
        }
      ]
    },
    {
      "cell_type": "markdown",
      "source": [
        "### Running the Simulation"
      ],
      "metadata": {
        "id": "rtQy96Osm-Ql"
      }
    },
    {
      "cell_type": "code",
      "source": [
        "Portfolio_Tickers=HistoricalPriceData.columns\n",
        "[Portfolio_Tickers_Sectorwise,sectorwiseCount]=Get_Portfolio_Tickers_Sectorwise_and_SectorwiseCount(Portfolio_Tickers)\n",
        "print(Portfolio_Tickers_Sectorwise)\n",
        "print(sectorwiseCount)\n"
      ],
      "metadata": {
        "id": "tD7Wv3pOnCcM",
        "colab": {
          "base_uri": "https://localhost:8080/"
        },
        "outputId": "cef8efca-8b11-42e5-b6f5-a15c2982c8fd"
      },
      "execution_count": 20,
      "outputs": [
        {
          "output_type": "stream",
          "name": "stdout",
          "text": [
            "{'TSM': 'Tech', 'ADBE': 'Tech', 'COST': 'ConsumerStaples', 'KKR': 'Financials', 'CSCO': 'Tech', 'UNH': 'Healthcare', 'VRTX': 'Healthcare'}\n",
            "{'Tech': 3, 'Healthcare': 2, 'Financials': 1, 'RealEstate': 0, 'ConsumerStaples': 1, 'ConsumerDiscretionary': 0, 'Energy': 0, 'Industrials': 0}\n"
          ]
        }
      ]
    },
    {
      "cell_type": "code",
      "source": [
        "Historical_Expected_Returns=np.array(HistoricalReturnsData[Portfolio_Tickers].mean())\n",
        "Historical_Covariance_Matrix=np.array(HistoricalReturnsData[Portfolio_Tickers].cov())"
      ],
      "metadata": {
        "id": "b7RBO1QFyEBo"
      },
      "execution_count": 21,
      "outputs": []
    },
    {
      "cell_type": "code",
      "source": [
        "print(Historical_Expected_Returns*1000)"
      ],
      "metadata": {
        "colab": {
          "base_uri": "https://localhost:8080/"
        },
        "id": "GAZ6xsDQrvCj",
        "outputId": "621a93a4-773e-4438-e745-92887ab9b3c8"
      },
      "execution_count": 22,
      "outputs": [
        {
          "output_type": "stream",
          "name": "stdout",
          "text": [
            "[0.95790655 0.88271226 0.7598802  0.78851192 0.43401144 0.94939307\n",
            " 0.53211405]\n"
          ]
        }
      ]
    },
    {
      "cell_type": "code",
      "source": [
        "print(Historical_Expected_Returns.reshape(1,-1)*1000)"
      ],
      "metadata": {
        "colab": {
          "base_uri": "https://localhost:8080/"
        },
        "id": "NjbxkoNLrhJY",
        "outputId": "fbcea916-a9ac-40a4-d243-33c5bdae958f"
      },
      "execution_count": 23,
      "outputs": [
        {
          "output_type": "stream",
          "name": "stdout",
          "text": [
            "[[0.95790655 0.88271226 0.7598802  0.78851192 0.43401144 0.94939307\n",
            "  0.53211405]]\n"
          ]
        }
      ]
    },
    {
      "cell_type": "code",
      "source": [
        "[Weights,[Returns],[[Volatility]],[[Sharpe]]]=Port_Optimizer_CvxOptimization(Portfolio_Tickers,Historical_Expected_Returns,Historical_Covariance_Matrix,Sector_Constraints)"
      ],
      "metadata": {
        "colab": {
          "base_uri": "https://localhost:8080/",
          "height": 269
        },
        "id": "YQqCVzTPrjOz",
        "outputId": "5adbe512-b191-40e4-a1ae-76251876e4e4"
      },
      "execution_count": 24,
      "outputs": [
        {
          "output_type": "display_data",
          "data": {
            "text/plain": [
              "           Weights\n",
              "TSM   3.573571e-01\n",
              "ADBE  8.264287e-02\n",
              "COST  2.200000e-01\n",
              "KKR   1.200000e-01\n",
              "CSCO  3.465442e-11\n",
              "UNH   2.200000e-01\n",
              "VRTX  1.827332e-11"
            ],
            "text/html": [
              "\n",
              "  <div id=\"df-7949b8f6-e9d8-472a-aabd-d4df8f0a3bc0\">\n",
              "    <div class=\"colab-df-container\">\n",
              "      <div>\n",
              "<style scoped>\n",
              "    .dataframe tbody tr th:only-of-type {\n",
              "        vertical-align: middle;\n",
              "    }\n",
              "\n",
              "    .dataframe tbody tr th {\n",
              "        vertical-align: top;\n",
              "    }\n",
              "\n",
              "    .dataframe thead th {\n",
              "        text-align: right;\n",
              "    }\n",
              "</style>\n",
              "<table border=\"1\" class=\"dataframe\">\n",
              "  <thead>\n",
              "    <tr style=\"text-align: right;\">\n",
              "      <th></th>\n",
              "      <th>Weights</th>\n",
              "    </tr>\n",
              "  </thead>\n",
              "  <tbody>\n",
              "    <tr>\n",
              "      <th>TSM</th>\n",
              "      <td>3.573571e-01</td>\n",
              "    </tr>\n",
              "    <tr>\n",
              "      <th>ADBE</th>\n",
              "      <td>8.264287e-02</td>\n",
              "    </tr>\n",
              "    <tr>\n",
              "      <th>COST</th>\n",
              "      <td>2.200000e-01</td>\n",
              "    </tr>\n",
              "    <tr>\n",
              "      <th>KKR</th>\n",
              "      <td>1.200000e-01</td>\n",
              "    </tr>\n",
              "    <tr>\n",
              "      <th>CSCO</th>\n",
              "      <td>3.465442e-11</td>\n",
              "    </tr>\n",
              "    <tr>\n",
              "      <th>UNH</th>\n",
              "      <td>2.200000e-01</td>\n",
              "    </tr>\n",
              "    <tr>\n",
              "      <th>VRTX</th>\n",
              "      <td>1.827332e-11</td>\n",
              "    </tr>\n",
              "  </tbody>\n",
              "</table>\n",
              "</div>\n",
              "      <button class=\"colab-df-convert\" onclick=\"convertToInteractive('df-7949b8f6-e9d8-472a-aabd-d4df8f0a3bc0')\"\n",
              "              title=\"Convert this dataframe to an interactive table.\"\n",
              "              style=\"display:none;\">\n",
              "        \n",
              "  <svg xmlns=\"http://www.w3.org/2000/svg\" height=\"24px\"viewBox=\"0 0 24 24\"\n",
              "       width=\"24px\">\n",
              "    <path d=\"M0 0h24v24H0V0z\" fill=\"none\"/>\n",
              "    <path d=\"M18.56 5.44l.94 2.06.94-2.06 2.06-.94-2.06-.94-.94-2.06-.94 2.06-2.06.94zm-11 1L8.5 8.5l.94-2.06 2.06-.94-2.06-.94L8.5 2.5l-.94 2.06-2.06.94zm10 10l.94 2.06.94-2.06 2.06-.94-2.06-.94-.94-2.06-.94 2.06-2.06.94z\"/><path d=\"M17.41 7.96l-1.37-1.37c-.4-.4-.92-.59-1.43-.59-.52 0-1.04.2-1.43.59L10.3 9.45l-7.72 7.72c-.78.78-.78 2.05 0 2.83L4 21.41c.39.39.9.59 1.41.59.51 0 1.02-.2 1.41-.59l7.78-7.78 2.81-2.81c.8-.78.8-2.07 0-2.86zM5.41 20L4 18.59l7.72-7.72 1.47 1.35L5.41 20z\"/>\n",
              "  </svg>\n",
              "      </button>\n",
              "      \n",
              "  <style>\n",
              "    .colab-df-container {\n",
              "      display:flex;\n",
              "      flex-wrap:wrap;\n",
              "      gap: 12px;\n",
              "    }\n",
              "\n",
              "    .colab-df-convert {\n",
              "      background-color: #E8F0FE;\n",
              "      border: none;\n",
              "      border-radius: 50%;\n",
              "      cursor: pointer;\n",
              "      display: none;\n",
              "      fill: #1967D2;\n",
              "      height: 32px;\n",
              "      padding: 0 0 0 0;\n",
              "      width: 32px;\n",
              "    }\n",
              "\n",
              "    .colab-df-convert:hover {\n",
              "      background-color: #E2EBFA;\n",
              "      box-shadow: 0px 1px 2px rgba(60, 64, 67, 0.3), 0px 1px 3px 1px rgba(60, 64, 67, 0.15);\n",
              "      fill: #174EA6;\n",
              "    }\n",
              "\n",
              "    [theme=dark] .colab-df-convert {\n",
              "      background-color: #3B4455;\n",
              "      fill: #D2E3FC;\n",
              "    }\n",
              "\n",
              "    [theme=dark] .colab-df-convert:hover {\n",
              "      background-color: #434B5C;\n",
              "      box-shadow: 0px 1px 3px 1px rgba(0, 0, 0, 0.15);\n",
              "      filter: drop-shadow(0px 1px 2px rgba(0, 0, 0, 0.3));\n",
              "      fill: #FFFFFF;\n",
              "    }\n",
              "  </style>\n",
              "\n",
              "      <script>\n",
              "        const buttonEl =\n",
              "          document.querySelector('#df-7949b8f6-e9d8-472a-aabd-d4df8f0a3bc0 button.colab-df-convert');\n",
              "        buttonEl.style.display =\n",
              "          google.colab.kernel.accessAllowed ? 'block' : 'none';\n",
              "\n",
              "        async function convertToInteractive(key) {\n",
              "          const element = document.querySelector('#df-7949b8f6-e9d8-472a-aabd-d4df8f0a3bc0');\n",
              "          const dataTable =\n",
              "            await google.colab.kernel.invokeFunction('convertToInteractive',\n",
              "                                                     [key], {});\n",
              "          if (!dataTable) return;\n",
              "\n",
              "          const docLinkHtml = 'Like what you see? Visit the ' +\n",
              "            '<a target=\"_blank\" href=https://colab.research.google.com/notebooks/data_table.ipynb>data table notebook</a>'\n",
              "            + ' to learn more about interactive tables.';\n",
              "          element.innerHTML = '';\n",
              "          dataTable['output_type'] = 'display_data';\n",
              "          await google.colab.output.renderOutput(dataTable, element);\n",
              "          const docLink = document.createElement('div');\n",
              "          docLink.innerHTML = docLinkHtml;\n",
              "          element.appendChild(docLink);\n",
              "        }\n",
              "      </script>\n",
              "    </div>\n",
              "  </div>\n",
              "  "
            ]
          },
          "metadata": {}
        }
      ]
    },
    {
      "cell_type": "code",
      "source": [
        "print(sum(Weights['Weights']))"
      ],
      "metadata": {
        "colab": {
          "base_uri": "https://localhost:8080/"
        },
        "id": "Rd3RQKg_i8fb",
        "outputId": "5b8c8c15-0241-4840-90f6-8ba951265851"
      },
      "execution_count": 25,
      "outputs": [
        {
          "output_type": "stream",
          "name": "stdout",
          "text": [
            "0.9999999999999999\n"
          ]
        }
      ]
    },
    {
      "cell_type": "code",
      "source": [
        "np.set_printoptions(4)\n",
        "print(f\"Optimized Sharpe Ratio Value: {Sharpe}\")\n",
        "print(f\"Optimal Weights: \")\n",
        "display(Weights) \n",
        "\n",
        "print(f\"Optimized Return: {Returns}\")\n",
        "print(f\"Optimized Volatility: {Volatility}\")"
      ],
      "metadata": {
        "colab": {
          "base_uri": "https://localhost:8080/",
          "height": 338
        },
        "id": "DlpOlr5Vr2sw",
        "outputId": "07e4f4a1-5ed0-4792-fe6f-7792b12c2dae"
      },
      "execution_count": 26,
      "outputs": [
        {
          "output_type": "stream",
          "name": "stdout",
          "text": [
            "Optimized Sharpe Ratio Value: 0.9342314344046895\n",
            "Optimal Weights: \n"
          ]
        },
        {
          "output_type": "display_data",
          "data": {
            "text/plain": [
              "           Weights\n",
              "TSM   3.573571e-01\n",
              "ADBE  8.264287e-02\n",
              "COST  2.200000e-01\n",
              "KKR   1.200000e-01\n",
              "CSCO  3.465442e-11\n",
              "UNH   2.200000e-01\n",
              "VRTX  1.827332e-11"
            ],
            "text/html": [
              "\n",
              "  <div id=\"df-6bf5fa85-fdda-422f-8f63-c1b06bb128fc\">\n",
              "    <div class=\"colab-df-container\">\n",
              "      <div>\n",
              "<style scoped>\n",
              "    .dataframe tbody tr th:only-of-type {\n",
              "        vertical-align: middle;\n",
              "    }\n",
              "\n",
              "    .dataframe tbody tr th {\n",
              "        vertical-align: top;\n",
              "    }\n",
              "\n",
              "    .dataframe thead th {\n",
              "        text-align: right;\n",
              "    }\n",
              "</style>\n",
              "<table border=\"1\" class=\"dataframe\">\n",
              "  <thead>\n",
              "    <tr style=\"text-align: right;\">\n",
              "      <th></th>\n",
              "      <th>Weights</th>\n",
              "    </tr>\n",
              "  </thead>\n",
              "  <tbody>\n",
              "    <tr>\n",
              "      <th>TSM</th>\n",
              "      <td>3.573571e-01</td>\n",
              "    </tr>\n",
              "    <tr>\n",
              "      <th>ADBE</th>\n",
              "      <td>8.264287e-02</td>\n",
              "    </tr>\n",
              "    <tr>\n",
              "      <th>COST</th>\n",
              "      <td>2.200000e-01</td>\n",
              "    </tr>\n",
              "    <tr>\n",
              "      <th>KKR</th>\n",
              "      <td>1.200000e-01</td>\n",
              "    </tr>\n",
              "    <tr>\n",
              "      <th>CSCO</th>\n",
              "      <td>3.465442e-11</td>\n",
              "    </tr>\n",
              "    <tr>\n",
              "      <th>UNH</th>\n",
              "      <td>2.200000e-01</td>\n",
              "    </tr>\n",
              "    <tr>\n",
              "      <th>VRTX</th>\n",
              "      <td>1.827332e-11</td>\n",
              "    </tr>\n",
              "  </tbody>\n",
              "</table>\n",
              "</div>\n",
              "      <button class=\"colab-df-convert\" onclick=\"convertToInteractive('df-6bf5fa85-fdda-422f-8f63-c1b06bb128fc')\"\n",
              "              title=\"Convert this dataframe to an interactive table.\"\n",
              "              style=\"display:none;\">\n",
              "        \n",
              "  <svg xmlns=\"http://www.w3.org/2000/svg\" height=\"24px\"viewBox=\"0 0 24 24\"\n",
              "       width=\"24px\">\n",
              "    <path d=\"M0 0h24v24H0V0z\" fill=\"none\"/>\n",
              "    <path d=\"M18.56 5.44l.94 2.06.94-2.06 2.06-.94-2.06-.94-.94-2.06-.94 2.06-2.06.94zm-11 1L8.5 8.5l.94-2.06 2.06-.94-2.06-.94L8.5 2.5l-.94 2.06-2.06.94zm10 10l.94 2.06.94-2.06 2.06-.94-2.06-.94-.94-2.06-.94 2.06-2.06.94z\"/><path d=\"M17.41 7.96l-1.37-1.37c-.4-.4-.92-.59-1.43-.59-.52 0-1.04.2-1.43.59L10.3 9.45l-7.72 7.72c-.78.78-.78 2.05 0 2.83L4 21.41c.39.39.9.59 1.41.59.51 0 1.02-.2 1.41-.59l7.78-7.78 2.81-2.81c.8-.78.8-2.07 0-2.86zM5.41 20L4 18.59l7.72-7.72 1.47 1.35L5.41 20z\"/>\n",
              "  </svg>\n",
              "      </button>\n",
              "      \n",
              "  <style>\n",
              "    .colab-df-container {\n",
              "      display:flex;\n",
              "      flex-wrap:wrap;\n",
              "      gap: 12px;\n",
              "    }\n",
              "\n",
              "    .colab-df-convert {\n",
              "      background-color: #E8F0FE;\n",
              "      border: none;\n",
              "      border-radius: 50%;\n",
              "      cursor: pointer;\n",
              "      display: none;\n",
              "      fill: #1967D2;\n",
              "      height: 32px;\n",
              "      padding: 0 0 0 0;\n",
              "      width: 32px;\n",
              "    }\n",
              "\n",
              "    .colab-df-convert:hover {\n",
              "      background-color: #E2EBFA;\n",
              "      box-shadow: 0px 1px 2px rgba(60, 64, 67, 0.3), 0px 1px 3px 1px rgba(60, 64, 67, 0.15);\n",
              "      fill: #174EA6;\n",
              "    }\n",
              "\n",
              "    [theme=dark] .colab-df-convert {\n",
              "      background-color: #3B4455;\n",
              "      fill: #D2E3FC;\n",
              "    }\n",
              "\n",
              "    [theme=dark] .colab-df-convert:hover {\n",
              "      background-color: #434B5C;\n",
              "      box-shadow: 0px 1px 3px 1px rgba(0, 0, 0, 0.15);\n",
              "      filter: drop-shadow(0px 1px 2px rgba(0, 0, 0, 0.3));\n",
              "      fill: #FFFFFF;\n",
              "    }\n",
              "  </style>\n",
              "\n",
              "      <script>\n",
              "        const buttonEl =\n",
              "          document.querySelector('#df-6bf5fa85-fdda-422f-8f63-c1b06bb128fc button.colab-df-convert');\n",
              "        buttonEl.style.display =\n",
              "          google.colab.kernel.accessAllowed ? 'block' : 'none';\n",
              "\n",
              "        async function convertToInteractive(key) {\n",
              "          const element = document.querySelector('#df-6bf5fa85-fdda-422f-8f63-c1b06bb128fc');\n",
              "          const dataTable =\n",
              "            await google.colab.kernel.invokeFunction('convertToInteractive',\n",
              "                                                     [key], {});\n",
              "          if (!dataTable) return;\n",
              "\n",
              "          const docLinkHtml = 'Like what you see? Visit the ' +\n",
              "            '<a target=\"_blank\" href=https://colab.research.google.com/notebooks/data_table.ipynb>data table notebook</a>'\n",
              "            + ' to learn more about interactive tables.';\n",
              "          element.innerHTML = '';\n",
              "          dataTable['output_type'] = 'display_data';\n",
              "          await google.colab.output.renderOutput(dataTable, element);\n",
              "          const docLink = document.createElement('div');\n",
              "          docLink.innerHTML = docLinkHtml;\n",
              "          element.appendChild(docLink);\n",
              "        }\n",
              "      </script>\n",
              "    </div>\n",
              "  </div>\n",
              "  "
            ]
          },
          "metadata": {}
        },
        {
          "output_type": "stream",
          "name": "stdout",
          "text": [
            "Optimized Return: 0.2232533924700879\n",
            "Optimized Volatility: 0.2175621425108704\n"
          ]
        }
      ]
    },
    {
      "cell_type": "code",
      "source": [
        ""
      ],
      "metadata": {
        "id": "lu10dugLswjh"
      },
      "execution_count": 26,
      "outputs": []
    },
    {
      "cell_type": "markdown",
      "source": [
        "### Backtest"
      ],
      "metadata": {
        "id": "3P_eezk4aEHB"
      }
    },
    {
      "cell_type": "code",
      "source": [
        "[Portfolio_returns_list,Portfolio_weights_historical,BenchmarkReturns]=backtest_Optimizer(Portfolio_Tickers,Sector_Constraints,ObjectiveFunction='Sharpe',Benchmark=\"SP500\")"
      ],
      "metadata": {
        "colab": {
          "base_uri": "https://localhost:8080/"
        },
        "id": "EYfj8Fh1aHSm",
        "outputId": "b4374c3d-4dca-4bc9-8f03-f87267c2c331"
      },
      "execution_count": 27,
      "outputs": [
        {
          "output_type": "stream",
          "name": "stdout",
          "text": [
            "[*********************100%***********************]  1 of 1 completed\n",
            "[*********************100%***********************]  1 of 1 completed\n",
            "[*********************100%***********************]  1 of 1 completed\n",
            "[*********************100%***********************]  1 of 1 completed\n",
            "[*********************100%***********************]  1 of 1 completed\n",
            "[*********************100%***********************]  1 of 1 completed\n",
            "[*********************100%***********************]  1 of 1 completed\n",
            "--------------------Loaded Backtest Data---------------------------\n",
            "[*********************100%***********************]  1 of 1 completed\n",
            "--------------------Loaded Benchmark Data---------------------------\n",
            "[*********************100%***********************]  1 of 1 completed\n",
            "[*********************100%***********************]  1 of 1 completed\n",
            "[*********************100%***********************]  1 of 1 completed\n",
            "[*********************100%***********************]  1 of 1 completed\n",
            "[*********************100%***********************]  1 of 1 completed\n",
            "[*********************100%***********************]  1 of 1 completed\n",
            "[*********************100%***********************]  1 of 1 completed\n",
            "--------------------Rebalance 0 of 10---------------------------\n",
            "[*********************100%***********************]  1 of 1 completed\n",
            "[*********************100%***********************]  1 of 1 completed\n",
            "[*********************100%***********************]  1 of 1 completed\n",
            "[*********************100%***********************]  1 of 1 completed\n",
            "[*********************100%***********************]  1 of 1 completed\n",
            "[*********************100%***********************]  1 of 1 completed\n",
            "[*********************100%***********************]  1 of 1 completed\n",
            "--------------------Rebalance 1 of 10---------------------------\n",
            "[*********************100%***********************]  1 of 1 completed\n",
            "[*********************100%***********************]  1 of 1 completed\n",
            "[*********************100%***********************]  1 of 1 completed\n",
            "[*********************100%***********************]  1 of 1 completed\n",
            "[*********************100%***********************]  1 of 1 completed\n",
            "[*********************100%***********************]  1 of 1 completed\n",
            "[*********************100%***********************]  1 of 1 completed\n",
            "--------------------Rebalance 2 of 10---------------------------\n",
            "[*********************100%***********************]  1 of 1 completed\n",
            "[*********************100%***********************]  1 of 1 completed\n",
            "[*********************100%***********************]  1 of 1 completed\n",
            "[*********************100%***********************]  1 of 1 completed\n",
            "[*********************100%***********************]  1 of 1 completed\n",
            "[*********************100%***********************]  1 of 1 completed\n",
            "[*********************100%***********************]  1 of 1 completed\n",
            "--------------------Rebalance 3 of 10---------------------------\n",
            "[*********************100%***********************]  1 of 1 completed\n",
            "[*********************100%***********************]  1 of 1 completed\n",
            "[*********************100%***********************]  1 of 1 completed\n",
            "[*********************100%***********************]  1 of 1 completed\n",
            "[*********************100%***********************]  1 of 1 completed\n",
            "[*********************100%***********************]  1 of 1 completed\n",
            "[*********************100%***********************]  1 of 1 completed\n",
            "--------------------Rebalance 4 of 10---------------------------\n",
            "[*********************100%***********************]  1 of 1 completed\n",
            "[*********************100%***********************]  1 of 1 completed\n",
            "[*********************100%***********************]  1 of 1 completed\n",
            "[*********************100%***********************]  1 of 1 completed\n",
            "[*********************100%***********************]  1 of 1 completed\n",
            "[*********************100%***********************]  1 of 1 completed\n",
            "[*********************100%***********************]  1 of 1 completed\n",
            "--------------------Rebalance 5 of 10---------------------------\n",
            "[*********************100%***********************]  1 of 1 completed\n",
            "[*********************100%***********************]  1 of 1 completed\n",
            "[*********************100%***********************]  1 of 1 completed\n",
            "[*********************100%***********************]  1 of 1 completed\n",
            "[*********************100%***********************]  1 of 1 completed\n",
            "[*********************100%***********************]  1 of 1 completed\n",
            "[*********************100%***********************]  1 of 1 completed\n",
            "--------------------Rebalance 6 of 10---------------------------\n",
            "[*********************100%***********************]  1 of 1 completed\n",
            "[*********************100%***********************]  1 of 1 completed\n",
            "[*********************100%***********************]  1 of 1 completed\n",
            "[*********************100%***********************]  1 of 1 completed\n",
            "[*********************100%***********************]  1 of 1 completed\n",
            "[*********************100%***********************]  1 of 1 completed\n",
            "[*********************100%***********************]  1 of 1 completed\n",
            "--------------------Rebalance 7 of 10---------------------------\n",
            "[*********************100%***********************]  1 of 1 completed\n",
            "[*********************100%***********************]  1 of 1 completed\n",
            "[*********************100%***********************]  1 of 1 completed\n",
            "[*********************100%***********************]  1 of 1 completed\n",
            "[*********************100%***********************]  1 of 1 completed\n",
            "[*********************100%***********************]  1 of 1 completed\n",
            "[*********************100%***********************]  1 of 1 completed\n",
            "--------------------Rebalance 8 of 10---------------------------\n",
            "[*********************100%***********************]  1 of 1 completed\n",
            "[*********************100%***********************]  1 of 1 completed\n",
            "[*********************100%***********************]  1 of 1 completed\n",
            "[*********************100%***********************]  1 of 1 completed\n",
            "[*********************100%***********************]  1 of 1 completed\n",
            "[*********************100%***********************]  1 of 1 completed\n",
            "[*********************100%***********************]  1 of 1 completed\n",
            "--------------------Rebalance 9 of 10---------------------------\n",
            "[*********************100%***********************]  1 of 1 completed\n",
            "[*********************100%***********************]  1 of 1 completed\n",
            "[*********************100%***********************]  1 of 1 completed\n",
            "[*********************100%***********************]  1 of 1 completed\n",
            "[*********************100%***********************]  1 of 1 completed\n",
            "[*********************100%***********************]  1 of 1 completed\n",
            "[*********************100%***********************]  1 of 1 completed\n",
            "--------------------Rebalance 10 of 10---------------------------\n"
          ]
        }
      ]
    },
    {
      "cell_type": "code",
      "source": [
        "print(Portfolio_returns_list)\n",
        "Backtest_Mean_returns=np.mean(np.array(Portfolio_returns_list))\n",
        "print(Backtest_Mean_returns)\n",
        "Benchmark_Mean_returns=np.mean(np.array(BenchmarkReturns))\n",
        "print(Benchmark_Mean_returns)"
      ],
      "metadata": {
        "colab": {
          "base_uri": "https://localhost:8080/"
        },
        "id": "76GHtJL9PEk1",
        "outputId": "c0492e24-145d-408c-901d-e77beb40b399"
      },
      "execution_count": 28,
      "outputs": [
        {
          "output_type": "stream",
          "name": "stdout",
          "text": [
            "[0, 0.027519119572209913, 0.04583685420877477, 0.051328033271625925, -0.014441993838299368, -0.08161194258106798, 0.050647988395806344, -0.0013697751547723086, 0.043597457069659375, 0.049769622205918025, 0.00023903151414189587, 0.03361136350983946, 0.013489804079385026, 0.043807141258880515, 0.02392556813917361, 0.015312844583652748, 0.06936594680954092, -0.007385760356979876, 0.0076442236548193545, 0.026455357071091482, -0.031711270566042844, 0.029853524400315662, 0.0392937297788139, 0.03433907194598808, -0.009475341847026909, -0.03462851883291311, 0.0895065872791521, -0.026454163861177306, -0.03854352296903706, 0.03663644766985753, 0.07032828388528962, -0.02151275771619686, 0.04035083721319374, -0.01018339314394644, 0.03697469775022515, 0.04885998113669422, 0.0038107172726419276, -0.0023120722788924244, 0.07734352484953189, -0.01210153843012033, -0.006647465585831025, 0.027766948775560997, -0.009871529563863998, 0.026447033823847808, -0.07388376744922934, 0.005214196349442407, 0.062342927075868644, 0.010327491104935829, 0.0057156375878529946, -0.06562254927973948, -0.005391894789595344, 0.08385297488475575, -0.020549035485213276, 0.02840707953870046, 0.0036196769995001667, 0.04682554368366685, 0.00740544516683119, 0.01407479435471828, -0.008311161796389393, 0.020496748679930444, 0.016334980441796456, 0.06384276998162591, 0.04537970459628414, 0.02759534840159276, 0.03906725440614582, 0.03850485326100617, -0.008089866617846247, 0.024351911008979682, 0.02374047397659551, 0.010555225992535592, 0.0712992538244925, 0.04268432720450238, -0.006326456385057655, 0.10006357211010612, -0.026489750555631977, -0.011675154743976677, 0.012854352129326547, 0.06641995225442143, 0.01945287334814502, 0.03016867876511486, 0.05498856301631069, 0.016372405611878506, -0.06824503780783414, 0.02592953056145393, -0.11879707241739658, 0.08555269838884867, 0.005503297641278449, 0.04098139832686182, 0.030923095385352876, -0.03607629678057393, 0.06977898796788207, 0.027677655453022098, -0.048087292786267256, -0.011504050908210935, 0.04390278068849906, 0.04328909971150295, 0.032557202101456365, 0.01007021036858305, -0.07801437502258242, -0.04680935993235958, 0.09966047150963712, 0.07092510922379097, 0.06304293895815155, 0.027071433160128215, 0.08569352305067553, -0.026186217925285308, -0.09806046889216996, 0.08251694952663946, 0.032560062562286884, -0.06418686549091943, -0.00982708276718095, 0.03938550793034476, 0.06287808936828371, -0.011096102882355859, 0.07535204190570367, 0.041577481353070385, 0.03348188952753248, -0.06359682816989833, 0.1260525007280691, 0.0147075129557282, 0.003753202436283186, -0.04911252163880273, -0.08872656558786235, 0.015059238914477113, -0.10299328077084363, 0.000700117428116887, -0.08832333096089309, 0.11459859367391115]\n",
            "0.014976327680624868\n",
            "0.009170211132291078\n"
          ]
        }
      ]
    },
    {
      "cell_type": "code",
      "source": [
        "print(sum(Portfolio_returns_list),sum(BenchmarkReturns))\n",
        "print(len(BenchmarkReturns))\n",
        "\n",
        "plt.scatter(BenchmarkReturns,Portfolio_returns_list)"
      ],
      "metadata": {
        "colab": {
          "base_uri": "https://localhost:8080/",
          "height": 320
        },
        "id": "dZcbaVMabqup",
        "outputId": "5e5f01ba-a226-4c1e-9d58-0654528bb8dc"
      },
      "execution_count": 29,
      "outputs": [
        {
          "output_type": "stream",
          "name": "stdout",
          "text": [
            "1.9169699431199834 1.173787024933258\n",
            "128\n"
          ]
        },
        {
          "output_type": "execute_result",
          "data": {
            "text/plain": [
              "<matplotlib.collections.PathCollection at 0x7fa768879990>"
            ]
          },
          "metadata": {},
          "execution_count": 29
        },
        {
          "output_type": "display_data",
          "data": {
            "text/plain": [
              "<Figure size 432x288 with 1 Axes>"
            ],
            "image/png": "[encoded data removed]"
          },
          "metadata": {}
        }
      ]
    },
    {
      "cell_type": "code",
      "source": [
        "Portfolio_std=np.std(np.array(Portfolio_returns_list))\n",
        "Benchmark_std=np.std(np.array(BenchmarkReturns))\n",
        "print(Portfolio_std)\n",
        "print(Benchmark_std)\n"
      ],
      "metadata": {
        "colab": {
          "base_uri": "https://localhost:8080/"
        },
        "id": "-Mq6ZQxmOmZN",
        "outputId": "8a322408-b400-4a12-edcf-1523ef9c3283"
      },
      "execution_count": 30,
      "outputs": [
        {
          "output_type": "stream",
          "name": "stdout",
          "text": [
            "0.0465783525238657\n",
            "0.03967225875219636\n"
          ]
        }
      ]
    },
    {
      "cell_type": "code",
      "source": [
        "Portfolio_sharpe=(Backtest_Mean_returns-(riskFreeRate)/12)/Portfolio_std\n",
        "print((12**0.5)*Portfolio_sharpe)\n",
        "Benchmark_sharpe=(Benchmark_Mean_returns-(riskFreeRate)/12)/Portfolio_std\n",
        "print((12**0.5)*Benchmark_sharpe)"
      ],
      "metadata": {
        "colab": {
          "base_uri": "https://localhost:8080/"
        },
        "id": "GGMXCS6KRva9",
        "outputId": "1b5be67a-db33-4679-dddc-70ddb941bf7c"
      },
      "execution_count": 31,
      "outputs": [
        {
          "output_type": "stream",
          "name": "stdout",
          "text": [
            "0.9898593599197164\n",
            "0.5580498041297024\n"
          ]
        }
      ]
    },
    {
      "cell_type": "code",
      "source": [
        "A=np.vstack([BenchmarkReturns,np.ones(len(BenchmarkReturns))]).T\n",
        "m, c = np.linalg.lstsq(A, Portfolio_returns_list, rcond=None)[0]\n",
        "print(f\"Alpha={12*c},Beta={m} (Annualized Alpha)\")"
      ],
      "metadata": {
        "colab": {
          "base_uri": "https://localhost:8080/"
        },
        "id": "t1YqkXJJb36k",
        "outputId": "f25b4bc7-589b-4a89-9bcf-40500aaf0fc4"
      },
      "execution_count": 36,
      "outputs": [
        {
          "output_type": "stream",
          "name": "stdout",
          "text": [
            "Alpha=0.06959878373590728,Beta=1.000678054581857 (Annualized Alpha)\n"
          ]
        }
      ]
    },
    {
      "cell_type": "code",
      "source": [
        "A=Portfolio_weights_historical"
      ],
      "metadata": {
        "id": "EzMWhBVZCAx2"
      },
      "execution_count": 33,
      "outputs": []
    },
    {
      "cell_type": "code",
      "source": [
        "Portfolio_Tickers"
      ],
      "metadata": {
        "colab": {
          "base_uri": "https://localhost:8080/"
        },
        "id": "MVsJjnrJCxAs",
        "outputId": "8aceab35-44f3-4d14-bd6a-d0b158fe165a"
      },
      "execution_count": 34,
      "outputs": [
        {
          "output_type": "execute_result",
          "data": {
            "text/plain": [
              "Index(['TSM', 'ADBE', 'COST', 'KKR', 'CSCO', 'UNH', 'VRTX'], dtype='object')"
            ]
          },
          "metadata": {},
          "execution_count": 34
        }
      ]
    },
    {
      "cell_type": "code",
      "source": [
        "np.array(A).reshape((11,7))\n"
      ],
      "metadata": {
        "colab": {
          "base_uri": "https://localhost:8080/"
        },
        "id": "fiJiL9amCKQA",
        "outputId": "2ff2b668-4248-4c31-f5dd-ee1b9702bea9"
      },
      "execution_count": 35,
      "outputs": [
        {
          "output_type": "execute_result",
          "data": {
            "text/plain": [
              "array([[4.4000e-01, 1.2553e-11, 2.2000e-01, 1.2000e-01, 7.1361e-12,\n",
              "        2.2000e-01, 5.0648e-12],\n",
              "       [3.6765e-01, 1.7324e-11, 2.2000e-01, 1.9235e-01, 1.1468e-11,\n",
              "        2.2000e-01, 1.1509e-11],\n",
              "       [7.4962e-03, 4.3250e-01, 2.2000e-01, 1.2000e-01, 4.5669e-11,\n",
              "        1.8979e-01, 3.0212e-02],\n",
              "       [1.3155e-01, 2.8027e-01, 2.2000e-01, 1.2000e-01, 2.8182e-02,\n",
              "        1.8852e-01, 3.1482e-02],\n",
              "       [4.5718e-02, 3.9428e-01, 2.2000e-01, 1.2000e-01, 2.2927e-09,\n",
              "        2.2000e-01, 1.6045e-11],\n",
              "       [2.1887e-01, 2.2113e-01, 2.2000e-01, 1.2000e-01, 1.1873e-09,\n",
              "        2.2000e-01, 4.7073e-11],\n",
              "       [3.2615e-11, 4.4000e-01, 2.2000e-01, 1.2000e-01, 1.0036e-11,\n",
              "        2.2000e-01, 1.7043e-12],\n",
              "       [9.6020e-10, 2.3510e-01, 2.2000e-01, 1.2000e-01, 2.0490e-01,\n",
              "        2.2000e-01, 1.4803e-11],\n",
              "       [5.6777e-10, 4.4000e-01, 2.2000e-01, 1.2000e-01, 7.7261e-11,\n",
              "        9.6222e-11, 2.2000e-01],\n",
              "       [2.5616e-01, 1.8384e-01, 2.2000e-01, 2.2000e-01, 1.1011e-11,\n",
              "        1.2000e-01, 2.3337e-11],\n",
              "       [3.4000e-01, 2.5064e-11, 2.2000e-01, 2.2000e-01, 7.3716e-12,\n",
              "        2.1409e-01, 5.9110e-03]])"
            ]
          },
          "metadata": {},
          "execution_count": 35
        }
      ]
    }
  ]
}